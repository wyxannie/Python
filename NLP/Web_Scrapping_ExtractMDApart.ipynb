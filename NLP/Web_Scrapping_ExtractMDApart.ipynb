{
  "nbformat": 4,
  "nbformat_minor": 0,
  "metadata": {
    "colab": {
      "name": "Copy of Web_Scrapping_Part_3_v3.ipynb",
      "provenance": [],
      "collapsed_sections": []
    },
    "kernelspec": {
      "name": "python3",
      "display_name": "Python 3"
    }
  },
  "cells": [
    {
      "cell_type": "markdown",
      "metadata": {
        "id": "YOUniFZIK5B5",
        "colab_type": "text"
      },
      "source": [
        "# **PART 3 Extract MD&A Part**"
      ]
    },
    {
      "cell_type": "markdown",
      "metadata": {
        "id": "RKgVy4KMoPjy",
        "colab_type": "text"
      },
      "source": [
        "Get the MD&A part for firms on a specific date (given) **Based on the full content we've already had**\n",
        "\n",
        "RETURN a dataframe(MDA_10k) with one more column (10KText_MDA)\n",
        "    \n",
        "original text (no lowercase check)\n",
        "\n",
        "1. cik number\n",
        "2. company name\n",
        "3. form id (should be 10-K)\n",
        "4. date\n",
        "5. file_url\n",
        "6. 10KText_MDA"
      ]
    },
    {
      "cell_type": "code",
      "metadata": {
        "id": "OqnXwmcpKAtm",
        "colab_type": "code",
        "colab": {}
      },
      "source": [
        "from google.colab import drive\n",
        "drive.mount('/content/drive')"
      ],
      "execution_count": null,
      "outputs": []
    },
    {
      "cell_type": "code",
      "metadata": {
        "id": "Sv7TiA6nNX0E",
        "colab_type": "code",
        "colab": {}
      },
      "source": [
        "import re"
      ],
      "execution_count": null,
      "outputs": []
    },
    {
      "cell_type": "code",
      "metadata": {
        "colab_type": "code",
        "id": "8XO_bSXMxkx2",
        "colab": {}
      },
      "source": [
        "import os\n",
        "import pandas as pd\n",
        "path = \"/content/drive/Shared drives/AFP/Web Scrapping/2019\"\n",
        "os.chdir(path)\n",
        "\n",
        "document_df_10k = pd.read_csv(\"FullContent_10k_2019.csv\")"
      ],
      "execution_count": null,
      "outputs": []
    },
    {
      "cell_type": "markdown",
      "metadata": {
        "id": "0dk51MxjX5hT",
        "colab_type": "text"
      },
      "source": [
        "## **Extract MDA part - Method 2**\n",
        "\n",
        "Using regular expression"
      ]
    },
    {
      "cell_type": "markdown",
      "metadata": {
        "id": "JVV_QfYdgvS8",
        "colab_type": "text"
      },
      "source": [
        "**!!!**\n",
        "\n",
        "1. No.22: 1082027 -> Item 6. Management \n",
        "2. No.126: 1448038 -> Item 7 –\n",
        "3. No.137: 1485074 -> Item 7 -\n",
        "4. No.247: 1724009 -> Item 7. Trustees'\n",
        "5. No.269: 34956 -> Item 7 —"
      ]
    },
    {
      "cell_type": "markdown",
      "metadata": {
        "id": "twnEcx_Kz4gd",
        "colab_type": "text"
      },
      "source": [
        "## Version 2"
      ]
    },
    {
      "cell_type": "code",
      "metadata": {
        "colab_type": "code",
        "id": "Sob11CPATeMV",
        "colab": {}
      },
      "source": [
        "def Get_10k_MDAContent(document_fulltext_10k):\n",
        "    document_fulltext_10k = document_fulltext_10k.lower()\n",
        "\n",
        "    ## assuming most firms use \"item 7.\"\n",
        "    startMatch = re.findall('(item\\s*7\\.?\\:?\\s*[m])', document_fulltext_10k)\n",
        "    if len(startMatch) == 0:\n",
        "        ## some firms use \"item 7-\"\n",
        "        startMatch = re.finditer('(item\\s*7\\s*\\–?\\-?\\—?\\s*[m])', document_fulltext_10k)\n",
        "    else:\n",
        "        startMatch = re.finditer('(item\\s*7\\.?\\:?\\s*[m])', document_fulltext_10k)\n",
        "    startIdxList = [i.start() for i in startMatch]\n",
        "\n",
        "    if len(startIdxList) == 0:\n",
        "        ## some firms use \"item 6\"\n",
        "        startMatch = re.findall('(item\\s*6\\.?\\:?\\s*[m])', document_fulltext_10k)\n",
        "        if len(startMatch) == 0:\n",
        "            startMatch = re.finditer('(item\\s*6\\s*\\–?\\-?\\—?\\s*[m])', document_fulltext_10k)\n",
        "        else:\n",
        "            startMatch = re.finditer('(item\\s*6\\.?\\:?\\s*[m])', document_fulltext_10k)\n",
        "\n",
        "        endMatch = re.finditer('(item\\s*7\\.?\\:?\\s*\\–?\\-?\\—?\\s*)', document_fulltext_10k)\n",
        "        startIdxList = [i.start() for i in startMatch]\n",
        "        # endIdxList = [i.start() for i in endMatch]\n",
        "    else:    \n",
        "        endMatch = re.finditer('(item\\s*7a\\.?\\:?\\s*\\–?\\-?\\—?\\s*q)', document_fulltext_10k)\n",
        "        endIdxList = [i.start() for i in endMatch]\n",
        "        if len(endIdxList) == 0:\n",
        "            endMatch = re.finditer('(item\\s*8\\.?\\:?\\s*\\–?\\-?\\—?\\s*)', document_fulltext_10k)\n",
        "            endIdxList = [i.start() for i in endMatch]\n",
        "\n",
        "    startIdx = startIdxList[-1] \n",
        "    ## find the first \"item 7a\" or whatever, just following MDA part\n",
        "    for idx in endIdxList:\n",
        "        if idx > startIdx:\n",
        "            endIdx = idx\n",
        "\n",
        "    # print((startIdx, endIdx)) # -1 -> not found\n",
        "\n",
        "    return document_fulltext_10k[startIdx:endIdx], startIdx, endIdx"
      ],
      "execution_count": null,
      "outputs": []
    },
    {
      "cell_type": "markdown",
      "metadata": {
        "id": "_iBj6z0ezwke",
        "colab_type": "text"
      },
      "source": [
        "## Final Application"
      ]
    },
    {
      "cell_type": "code",
      "metadata": {
        "id": "c6v4ZVWkl2OG",
        "colab_type": "code",
        "colab": {}
      },
      "source": [
        "MDA_df_10k = document_df_10k[['cik number', 'company name', 'form id', 'date', 'file_url']].copy()\n",
        "MDA_df_10k.head()"
      ],
      "execution_count": null,
      "outputs": []
    },
    {
      "cell_type": "code",
      "metadata": {
        "id": "88l3mLcDNa23",
        "colab_type": "code",
        "colab": {}
      },
      "source": [
        "MDA_df_10k['10KText_MDA'] = None\n",
        "MDA_df_10k['startIdx'] = None\n",
        "MDA_df_10k['endIdx'] = None\n",
        "MDA_df_10k.head()"
      ],
      "execution_count": null,
      "outputs": []
    },
    {
      "cell_type": "code",
      "metadata": {
        "id": "SHJd-LReeu9x",
        "colab_type": "code",
        "colab": {}
      },
      "source": [
        "ErrorFirm = {}\n",
        "for i in range(len(document_df_10k['10KText_All'])):\n",
        "    print(i,  \"-----\", document_df_10k['company name'][i])\n",
        "    try:\n",
        "        MDAcontent, startIdx, endIdx = Get_10k_MDAContent(document_df_10k['10KText_All'][i])\n",
        "        MDA_df_10k['10KText_MDA'][i] = MDAcontent\n",
        "        MDA_df_10k['startIdx'][i] = startIdx\n",
        "        MDA_df_10k['endIdx'][i] = endIdx\n",
        "    except:\n",
        "        ## if MDA_df_10k has None, which means the Get_10k_MDAContent doesn't work for that company\n",
        "        ErrorFirm[i] = document_df_10k['company name'][i]\n"
      ],
      "execution_count": null,
      "outputs": []
    },
    {
      "cell_type": "code",
      "metadata": {
        "id": "IFtJxZqVXCJd",
        "colab_type": "code",
        "colab": {}
      },
      "source": [
        "MDA_df_10k['Length'] = MDA_df_10k['endIdx'] - MDA_df_10k['startIdx']"
      ],
      "execution_count": null,
      "outputs": []
    },
    {
      "cell_type": "code",
      "metadata": {
        "id": "HyuV3xK3kz2Q",
        "colab_type": "code",
        "colab": {}
      },
      "source": [
        "MDA_df_10k_1 = MDA_df_10k[MDA_df_10k[\"Length\"] > 1000].dropna()\n",
        "MDA_df_10k_1.reset_index()"
      ],
      "execution_count": null,
      "outputs": []
    },
    {
      "cell_type": "code",
      "metadata": {
        "id": "sXLu9rP5PC31",
        "colab_type": "code",
        "colab": {}
      },
      "source": [
        "MDA_df_10k_1.to_csv(\"MDA_10k_2019.csv\")"
      ],
      "execution_count": null,
      "outputs": []
    },
    {
      "cell_type": "markdown",
      "metadata": {
        "id": "GCLIDNw5_Fgp",
        "colab_type": "text"
      },
      "source": [
        "Merge"
      ]
    },
    {
      "cell_type": "code",
      "metadata": {
        "id": "tEzN0OiK-xkh",
        "colab_type": "code",
        "colab": {}
      },
      "source": [
        "path_new = \"/content/drive/Shared drives/AFP/Web Scrapping\"\n",
        "MDA_3yr = None\n",
        "for yr in [\"2017\", \"2018\", \"2019\"]:\n",
        "    MDA_1yr = pd.read_csv(os.path.join(path_new, yr, \"MDA_10k_\"+yr+\".csv\"))\n",
        "    MDA_3yr = pd.concat([MDA_3yr, MDA_1yr])\n",
        "\n",
        "MDA_3yr.reset_index(inplace=True, drop=True)"
      ],
      "execution_count": null,
      "outputs": []
    },
    {
      "cell_type": "code",
      "metadata": {
        "colab_type": "code",
        "id": "gUcs92qrCC2O",
        "colab": {}
      },
      "source": [
        "MDA_3yr['Length'] = MDA_3yr['endIdx'] - MDA_3yr['startIdx']"
      ],
      "execution_count": null,
      "outputs": []
    },
    {
      "cell_type": "code",
      "metadata": {
        "id": "6NP89sexAqjn",
        "colab_type": "code",
        "colab": {}
      },
      "source": [
        "MDA_3yr.to_csv(\"MDA_All_3yr.csv\")"
      ],
      "execution_count": null,
      "outputs": []
    }
  ]
}